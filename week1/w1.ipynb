{
 "cells": [
  {
   "cell_type": "markdown",
   "source": [
    "# Markov Decision Process (MDP)\n",
    "\n",
    "A **Markov Decision Process (MDP)** is a mathematical model for sequential decision-making in situations where outcomes are partly random and partly under the control of a decision maker. MDPs are used to determine the best action for an agent to take in a given state, considering the current environment and the sequential nature of decision making. They find applications across various fields such as robotics, economics, manufacturing, and particularly in artificial intelligence for probabilistic planning and reinforcement learning.\n"
   ],
   "metadata": {
    "collapsed": false
   },
   "id": "4ea37c3194a6722f"
  },
  {
   "cell_type": "markdown",
   "source": [
    "## Fundamentals of MDP\n",
    "\n",
    "MDPs are characterized by four main components:\n",
    "\n",
    "- **States (S):** The set of all possible states in which the agent can be.\n",
    "- **Actions (A):** The set of all actions the agent can take.\n",
    "- **Transition Probabilities (P):** $P(s_{t+1} | s_t, a_t)$, the probability of moving from state $s_t$ to state $s_{t+1}$ after taking action $a_t$.\n",
    "- **Rewards (R):** The immediate reward received after transitioning from one state to another state as a result of an action.\n",
    "\n",
    "MDPs can be classified into finite, infinite, continuous, or discrete types based on the state and action spaces and the decision-making frequency.\n"
   ],
   "metadata": {
    "collapsed": false
   },
   "id": "747429d5b4fbd4c0"
  },
  {
   "cell_type": "markdown",
   "source": [
    "## Markov Property\n",
    "\n",
    "The **Markov Property** states that the future state depends only on the current state and not on the sequence of events that preceded it. Mathematically, it is expressed as:\n",
    "\n",
    "$$P(s_{t+1} | s_t) = P(s_{t+1} | s_1, s_2, ..., s_t)$$\n",
    "\n",
    "This property simplifies the analysis by focusing only on the current state to predict the future state, disregarding the past states.\n"
   ],
   "metadata": {
    "collapsed": false
   },
   "id": "379c105f34c6288"
  },
  {
   "cell_type": "markdown",
   "source": [
    "## Policy and Value Function\n",
    "\n",
    "- **Policy (π):** A policy defines the agent's action in a given state, aiming to maximize cumulative rewards. It is denoted as $\\pi(s) \\rightarrow a$, mapping states to actions.\n",
    "\n",
    "- **Value Function (V):** The value function $V(s)$ estimates the expected return (total discounted rewards) from state $s$ under a policy $\\pi$. It is crucial for evaluating the quality of a policy.\n",
    "\n",
    "The **Bellman Equation** represents the value function as:\n",
    "\n",
    "$$V^\\pi(s) = R(s) + \\gamma \\sum_{s'} P(s' | s, a) V^\\pi(s')$$\n",
    "\n",
    "where $\\gamma$ is the discount factor, representing the importance of future rewards.\n"
   ],
   "metadata": {
    "collapsed": false
   },
   "id": "6d6cd070a4c2f6a0"
  },
  {
   "cell_type": "markdown",
   "source": [
    "## Optimal Policy and Value Function\n",
    "\n",
    "The goal in MDP is to find an **optimal policy** $\\pi^*$ that maximizes the expected return from any initial state. The optimal value function $V^*(s)$ represents the maximum value (expected return) that can be obtained from state $s$ under the best policy.\n",
    "\n",
    "The optimal value function satisfies the **Bellman Optimality Equation**:\n",
    "\n",
    "$$V^*(s) = \\max_a \\left(R(s, a) + \\gamma \\sum_{s'} P(s' | s, a) V^*(s')\\right)$$\n",
    "\n",
    "Finding the optimal policy often involves iterative methods such as value iteration, policy iteration, or Q-learning.\n"
   ],
   "metadata": {
    "collapsed": false
   },
   "id": "5219ee0c95cadb45"
  },
  {
   "cell_type": "markdown",
   "source": [
    "## Example: Decision Making in Wildlife Management\n",
    "\n",
    "Consider a scenario where a wildlife manager must decide on the deer population management in a forest. The decision involves whether to allow hunting to control the deer population and ensure ecological balance.\n",
    "\n",
    "- **States:** The population levels of deer (e.g., empty, low, medium, high).\n",
    "- **Actions:** Decisions on whether to allow hunting (e.g., go_hunt, no_hunting).\n",
    "- **Rewards:** Based on the ecological balance and economic impact (e.g., fines for over-hunting, income from hunting licenses).\n",
    "- **Transitions:** Changes in deer population based on actions taken.\n",
    "\n",
    "This real-world problem can be modeled as an MDP to determine the optimal hunting policy that balances ecological and economic objectives.\n"
   ],
   "metadata": {
    "collapsed": false
   },
   "id": "5134bfde54a9ca03"
  },
  {
   "cell_type": "code",
   "outputs": [],
   "source": [
    "import numpy as np\n",
    "import matplotlib.pyplot as plt"
   ],
   "metadata": {
    "collapsed": false,
    "ExecuteTime": {
     "end_time": "2024-02-16T17:03:10.750618Z",
     "start_time": "2024-02-16T17:03:10.731624Z"
    }
   },
   "id": "304abcbc71c4e26",
   "execution_count": 19
  },
  {
   "cell_type": "code",
   "outputs": [],
   "source": [
    "# States: 0 = low, 1 = medium, 2 = high\n",
    "states = [0, 1, 2]\n",
    "\n",
    "# Actions: 0 = no_hunting, 1 = go_hunt\n",
    "actions = [0, 1]\n",
    "\n",
    "# Transition Probabilities: P[s][a][s']\n",
    "# Assuming deterministic transitions for simplicity\n",
    "P = np.array([\n",
    "    # From low state\n",
    "    [[0.8, 0.2, 0.0],  # no_hunting: 80% stay low, 20% go to medium, 0% go to high\n",
    "     [0.0, 0.7, 0.3]], # go_hunt: 0% stay low, 70% go to medium, 30% go to high\n",
    "    # From medium state\n",
    "    [[0.1, 0.8, 0.1],  # no_hunting: 10% go to low, 80% stay medium, 10% go to high\n",
    "     [0.0, 0.0, 1.0]], # go_hunt: 0% go to low, 0% stay medium, 100% go to high\n",
    "    # From high state\n",
    "    [[0.0, 0.3, 0.7],  # no_hunting: 0% go to low, 30% go to medium, 70% stay high\n",
    "     [0.0, 0.0, 1.0]]  # go_hunt: 0% go to low, 0% go to medium, 100% stay high\n",
    "])\n",
    "\n",
    "\n",
    "# Rewards: R[s][a]\n",
    "# Rewards for actions in each state\n",
    "R = np.array([\n",
    "    [2, -1],  # low\n",
    "    [2, 5],   # medium\n",
    "    [2, 10]   # high\n",
    "])\n",
    "\n",
    "# Discount factor\n",
    "gamma = 0.9\n"
   ],
   "metadata": {
    "collapsed": false,
    "ExecuteTime": {
     "end_time": "2024-02-16T17:03:10.766612Z",
     "start_time": "2024-02-16T17:03:10.754617Z"
    }
   },
   "id": "7dce1be6d68800ec",
   "execution_count": 20
  },
  {
   "cell_type": "code",
   "outputs": [
    {
     "name": "stdout",
     "output_type": "stream",
     "text": [
      "Optimal Policy: [1 1 1]\n",
      "Value Function: [85.84153585 94.99153585 99.99153585]\n"
     ]
    }
   ],
   "source": [
    "def value_iteration(P, R, states, actions, gamma, threshold=0.001):\n",
    "    V = np.zeros(len(states))  # Initial value for all states\n",
    "    policy = np.zeros(len(states), dtype=int)\n",
    "    while True:\n",
    "        delta = 0\n",
    "        for s in states:\n",
    "            v = V[s]\n",
    "            V[s] = max([sum([P[s][a][s_next]*(R[s][a] + gamma*V[s_next]) for s_next in states]) for a in actions])\n",
    "            delta = max(delta, abs(v - V[s]))\n",
    "        if delta < threshold:\n",
    "            break\n",
    "    for s in states:\n",
    "        policy[s] = np.argmax([sum([P[s][a][s_next]*(R[s][a] + gamma*V[s_next]) for s_next in states]) for a in actions])\n",
    "    return policy, V\n",
    "\n",
    "policy, V = value_iteration(P, R, states, actions, gamma)\n",
    "print(\"Optimal Policy:\", policy)\n",
    "print(\"Value Function:\", V)\n"
   ],
   "metadata": {
    "collapsed": false,
    "ExecuteTime": {
     "end_time": "2024-02-16T17:03:10.798602Z",
     "start_time": "2024-02-16T17:03:10.768612Z"
    }
   },
   "id": "b90313c9039d0a3a",
   "execution_count": 21
  },
  {
   "cell_type": "code",
   "outputs": [
    {
     "data": {
      "text/plain": "<Figure size 800x500 with 1 Axes>",
      "image/png": "[encoded data removed]"
     },
     "metadata": {},
     "output_type": "display_data"
    }
   ],
   "source": [
    "def plot_value_function(V, states):\n",
    "    plt.figure(figsize=(8, 5))\n",
    "    plt.bar(range(len(states)), V, tick_label=[\"Low\", \"Medium\", \"High\"])\n",
    "    plt.xlabel('States')\n",
    "    plt.ylabel('Value')\n",
    "    plt.title('Value Function')\n",
    "    plt.show()\n",
    "\n",
    "plot_value_function(V, states)\n"
   ],
   "metadata": {
    "collapsed": false,
    "ExecuteTime": {
     "end_time": "2024-02-16T17:03:10.984547Z",
     "start_time": "2024-02-16T17:03:10.802602Z"
    }
   },
   "id": "9d1b56e0011aa7bb",
   "execution_count": 22
  },
  {
   "cell_type": "code",
   "outputs": [],
   "source": [],
   "metadata": {
    "collapsed": false,
    "ExecuteTime": {
     "end_time": "2024-02-16T17:03:10.999538Z",
     "start_time": "2024-02-16T17:03:10.985543Z"
    }
   },
   "id": "4f423c1a226220b9",
   "execution_count": 22
  }
 ],
 "metadata": {
  "kernelspec": {
   "display_name": "Python 3",
   "language": "python",
   "name": "python3"
  },
  "language_info": {
   "codemirror_mode": {
    "name": "ipython",
    "version": 2
   },
   "file_extension": ".py",
   "mimetype": "text/x-python",
   "name": "python",
   "nbconvert_exporter": "python",
   "pygments_lexer": "ipython2",
   "version": "2.7.6"
  }
 },
 "nbformat": 4,
 "nbformat_minor": 5
}
